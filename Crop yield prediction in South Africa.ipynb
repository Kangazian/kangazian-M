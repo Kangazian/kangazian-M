{
 "cells": [
  {
   "cell_type": "code",
   "execution_count": 1,
   "metadata": {},
   "outputs": [],
   "source": [
    "import xarray as xr\n",
    "import numpy as np\n",
    "import pandas as pd\n",
    "import geopandas as gpd\n"
   ]
  },
  {
   "cell_type": "code",
   "execution_count": 2,
   "metadata": {},
   "outputs": [
    {
     "name": "stdout",
     "output_type": "stream",
     "text": [
      "2870\n",
      "2870\n"
     ]
    }
   ],
   "source": [
    "ds = xr.open_dataset(\"ZA_chirps_monthly.nc\")\n",
    "ds_tmax = xr.open_dataset(\"ZA_chirts_monthly_tmax.nc\")\n",
    "ds_tmin = xr.open_dataset(\"ZA_chirts_monthly_tmin.nc\")\n",
    "# SVM alghorithm  for missing data(NAN) on ds\n",
    "df=ds['precip'].to_dataframe().reset_index()\n",
    "len_nan=df['precip'].isna().sum().sum()\n",
    "df=df.sample(n=10000,random_state=42)\n",
    "df['time']=(pd.to_datetime(df['time'])-pd.Timestamp('1981-01-01')).dt.days\n",
    "# SVM alghorithm  for missing data(NAN) on tmax\n",
    "df_tmax=ds_tmax['temp'].to_dataframe().reset_index()\n",
    "len_nan_tmax=df_tmax['temp'].isna().sum().sum()\n",
    "df_tmax=df_tmax.sample(n=10000,random_state=42)\n",
    "df_tmax['time']=(pd.to_datetime(df_tmax['time'])-pd.Timestamp('1981-01-01')).dt.days\n",
    "print(df_tmax.isna().sum().sum())\n",
    "# SVM alghorithm  for missing data(NAN) on tmin\n",
    "df_tmin=ds_tmin['temp'].to_dataframe().reset_index()\n",
    "len_nan_tmin=df_tmin['temp'].isna().sum().sum()\n",
    "df_tmin=df_tmin.sample(n=10000,random_state=42)\n",
    "df_tmin['time']=(pd.to_datetime(df_tmin['time'])-pd.Timestamp('1981-01-01')).dt.days\n",
    "print(df_tmin.isna().sum().sum())\n"
   ]
  },
  {
   "cell_type": "code",
   "execution_count": 3,
   "metadata": {},
   "outputs": [],
   "source": [
    "#SVM alghorithm df\n",
    "df_notNa=df[df['precip'].notna()]\n",
    "df_na=df[df['precip'].isna()]\n",
    "X=df_notNa.drop(columns='precip')\n",
    "Y=df_notNa['precip']\n",
    "#SVM alghorithm for tmax\n",
    "df_tmax_notNa=df_tmax[df_tmax['temp'].notna()]\n",
    "df_tmax_na=df_tmax[df_tmax['temp'].isna()]\n",
    "X_tmax=df_tmax_notNa.drop(columns='temp')\n",
    "Y_tmax=df_tmax_notNa['temp']\n",
    "#SVM alghorithm for tmin\n",
    "df_tmin_notNa=df_tmin[df_tmin['temp'].notna()]\n",
    "df_tmin_na=df_tmin[df_tmin['temp'].isna()]\n",
    "X_tmin=df_tmin_notNa.drop(columns='temp')\n",
    "Y_tmin=df_tmin_notNa['temp']\n"
   ]
  },
  {
   "cell_type": "code",
   "execution_count": 4,
   "metadata": {},
   "outputs": [
    {
     "data": {
      "text/html": [
       "<style>#sk-container-id-1 {color: black;background-color: white;}#sk-container-id-1 pre{padding: 0;}#sk-container-id-1 div.sk-toggleable {background-color: white;}#sk-container-id-1 label.sk-toggleable__label {cursor: pointer;display: block;width: 100%;margin-bottom: 0;padding: 0.3em;box-sizing: border-box;text-align: center;}#sk-container-id-1 label.sk-toggleable__label-arrow:before {content: \"▸\";float: left;margin-right: 0.25em;color: #696969;}#sk-container-id-1 label.sk-toggleable__label-arrow:hover:before {color: black;}#sk-container-id-1 div.sk-estimator:hover label.sk-toggleable__label-arrow:before {color: black;}#sk-container-id-1 div.sk-toggleable__content {max-height: 0;max-width: 0;overflow: hidden;text-align: left;background-color: #f0f8ff;}#sk-container-id-1 div.sk-toggleable__content pre {margin: 0.2em;color: black;border-radius: 0.25em;background-color: #f0f8ff;}#sk-container-id-1 input.sk-toggleable__control:checked~div.sk-toggleable__content {max-height: 200px;max-width: 100%;overflow: auto;}#sk-container-id-1 input.sk-toggleable__control:checked~label.sk-toggleable__label-arrow:before {content: \"▾\";}#sk-container-id-1 div.sk-estimator input.sk-toggleable__control:checked~label.sk-toggleable__label {background-color: #d4ebff;}#sk-container-id-1 div.sk-label input.sk-toggleable__control:checked~label.sk-toggleable__label {background-color: #d4ebff;}#sk-container-id-1 input.sk-hidden--visually {border: 0;clip: rect(1px 1px 1px 1px);clip: rect(1px, 1px, 1px, 1px);height: 1px;margin: -1px;overflow: hidden;padding: 0;position: absolute;width: 1px;}#sk-container-id-1 div.sk-estimator {font-family: monospace;background-color: #f0f8ff;border: 1px dotted black;border-radius: 0.25em;box-sizing: border-box;margin-bottom: 0.5em;}#sk-container-id-1 div.sk-estimator:hover {background-color: #d4ebff;}#sk-container-id-1 div.sk-parallel-item::after {content: \"\";width: 100%;border-bottom: 1px solid gray;flex-grow: 1;}#sk-container-id-1 div.sk-label:hover label.sk-toggleable__label {background-color: #d4ebff;}#sk-container-id-1 div.sk-serial::before {content: \"\";position: absolute;border-left: 1px solid gray;box-sizing: border-box;top: 0;bottom: 0;left: 50%;z-index: 0;}#sk-container-id-1 div.sk-serial {display: flex;flex-direction: column;align-items: center;background-color: white;padding-right: 0.2em;padding-left: 0.2em;position: relative;}#sk-container-id-1 div.sk-item {position: relative;z-index: 1;}#sk-container-id-1 div.sk-parallel {display: flex;align-items: stretch;justify-content: center;background-color: white;position: relative;}#sk-container-id-1 div.sk-item::before, #sk-container-id-1 div.sk-parallel-item::before {content: \"\";position: absolute;border-left: 1px solid gray;box-sizing: border-box;top: 0;bottom: 0;left: 50%;z-index: -1;}#sk-container-id-1 div.sk-parallel-item {display: flex;flex-direction: column;z-index: 1;position: relative;background-color: white;}#sk-container-id-1 div.sk-parallel-item:first-child::after {align-self: flex-end;width: 50%;}#sk-container-id-1 div.sk-parallel-item:last-child::after {align-self: flex-start;width: 50%;}#sk-container-id-1 div.sk-parallel-item:only-child::after {width: 0;}#sk-container-id-1 div.sk-dashed-wrapped {border: 1px dashed gray;margin: 0 0.4em 0.5em 0.4em;box-sizing: border-box;padding-bottom: 0.4em;background-color: white;}#sk-container-id-1 div.sk-label label {font-family: monospace;font-weight: bold;display: inline-block;line-height: 1.2em;}#sk-container-id-1 div.sk-label-container {text-align: center;}#sk-container-id-1 div.sk-container {/* jupyter's `normalize.less` sets `[hidden] { display: none; }` but bootstrap.min.css set `[hidden] { display: none !important; }` so we also need the `!important` here to be able to override the default hidden behavior on the sphinx rendered scikit-learn.org. See: https://github.com/scikit-learn/scikit-learn/issues/21755 */display: inline-block !important;position: relative;}#sk-container-id-1 div.sk-text-repr-fallback {display: none;}</style><div id=\"sk-container-id-1\" class=\"sk-top-container\"><div class=\"sk-text-repr-fallback\"><pre>SVR()</pre><b>In a Jupyter environment, please rerun this cell to show the HTML representation or trust the notebook. <br />On GitHub, the HTML representation is unable to render, please try loading this page with nbviewer.org.</b></div><div class=\"sk-container\" hidden><div class=\"sk-item\"><div class=\"sk-estimator sk-toggleable\"><input class=\"sk-toggleable__control sk-hidden--visually\" id=\"sk-estimator-id-1\" type=\"checkbox\" checked><label for=\"sk-estimator-id-1\" class=\"sk-toggleable__label sk-toggleable__label-arrow\">SVR</label><div class=\"sk-toggleable__content\"><pre>SVR()</pre></div></div></div></div></div>"
      ],
      "text/plain": [
       "SVR()"
      ]
     },
     "execution_count": 4,
     "metadata": {},
     "output_type": "execute_result"
    }
   ],
   "source": [
    "from sklearn.model_selection import train_test_split\n",
    "from sklearn.svm import SVR\n",
    "#svm FIT for ds\n",
    "x_train,x_test,y_train,y_test=train_test_split(X,Y,test_size=0.2,random_state=42)\n",
    "svm=SVR(kernel='rbf')\n",
    "svm.fit(x_train,y_train)\n",
    "#svm FIT for tmax\n",
    "x_train,x_test,y_train,y_test=train_test_split(X_tmax,Y_tmax,test_size=0.2,random_state=42)\n",
    "svm_tmax=SVR(kernel='rbf')\n",
    "svm_tmax.fit(x_train,y_train)\n",
    "#svm FIT for tmin\n",
    "x_train,x_test,y_train,y_test=train_test_split(X_tmin,Y_tmin,test_size=0.2,random_state=42)\n",
    "svm_tmin=SVR(kernel='rbf')\n",
    "svm_tmin.fit(x_train,y_train)\n",
    "\n"
   ]
  },
  {
   "cell_type": "code",
   "execution_count": 5,
   "metadata": {},
   "outputs": [
    {
     "data": {
      "text/plain": [
       "array([14.06533639, 15.12111154, 15.65637976, ..., 15.66857945,\n",
       "       16.36781222, 16.53249463])"
      ]
     },
     "execution_count": 5,
     "metadata": {},
     "output_type": "execute_result"
    }
   ],
   "source": [
    "#prediction of missing data on dataset of ds\n",
    "X_missing=df_na.drop(columns='precip')\n",
    "y_pred=svm.predict(X_missing)\n",
    "y_pred\n",
    "#prediction missing data on dataset of tmax\n",
    "X_missing_tmax=df_tmax_na.drop(columns='temp')\n",
    "y_pred_tmax=svm.predict(X_missing_tmax)\n",
    "y_pred_tmax\n",
    "#prediction missing data on dataset of tmin\n",
    "X_missing_tmin=df_tmin_na.drop(columns='temp')\n",
    "y_pred_tmin=svm.predict(X_missing_tmin)\n",
    "y_pred_tmin\n"
   ]
  },
  {
   "cell_type": "code",
   "execution_count": 6,
   "metadata": {},
   "outputs": [
    {
     "name": "stderr",
     "output_type": "stream",
     "text": [
      "C:\\Users\\USER\\AppData\\Local\\Temp\\ipykernel_1040\\261819596.py:4: FutureWarning: Setting an item of incompatible dtype is deprecated and will raise an error in a future version of pandas. Value '[14.7462743  16.45002384 14.23269341 ... 13.99731839 15.48690517\n",
      " 15.96761895]' has dtype incompatible with float32, please explicitly cast to a compatible dtype first.\n",
      "  df1.loc[df1['precip'].isna(),'precip']=y_pred\n",
      "C:\\Users\\USER\\AppData\\Local\\Temp\\ipykernel_1040\\261819596.py:8: FutureWarning: Setting an item of incompatible dtype is deprecated and will raise an error in a future version of pandas. Value '[16.58906675 15.93270618 14.07149822 ... 14.52326876 16.52363689\n",
      " 16.35832554]' has dtype incompatible with float32, please explicitly cast to a compatible dtype first.\n",
      "  df_tmax1.loc[df_tmax1['temp'].isna(),'temp']=y_pred_tmax\n",
      "C:\\Users\\USER\\AppData\\Local\\Temp\\ipykernel_1040\\261819596.py:12: FutureWarning: Setting an item of incompatible dtype is deprecated and will raise an error in a future version of pandas. Value '[15.6008028  16.44673224 14.53564946 ... 15.61041026 15.6008028\n",
      " 14.14183697]' has dtype incompatible with float32, please explicitly cast to a compatible dtype first.\n",
      "  df_tmin1.loc[df_tmin1['temp'].isna(),'temp']=y_pred_tmin\n"
     ]
    },
    {
     "name": "stdout",
     "output_type": "stream",
     "text": [
      "0\n"
     ]
    }
   ],
   "source": [
    "#filling missing data on df1\n",
    "df1=ds['precip'].to_dataframe().reset_index()\n",
    "y_pred=np.random.choice(y_pred,size=len_nan,replace=True)\n",
    "df1.loc[df1['precip'].isna(),'precip']=y_pred\n",
    "#filling missing data on tmax1\n",
    "df_tmax1=ds_tmax['temp'].to_dataframe().reset_index()\n",
    "y_pred_tmax=np.random.choice(y_pred_tmax,size=len_nan_tmax,replace=True)\n",
    "df_tmax1.loc[df_tmax1['temp'].isna(),'temp']=y_pred_tmax\n",
    "#filling missing data on tmin1\n",
    "df_tmin1=ds_tmin['temp'].to_dataframe().reset_index()\n",
    "y_pred_tmin=np.random.choice(y_pred_tmin,size=len_nan_tmin,replace=True)\n",
    "df_tmin1.loc[df_tmin1['temp'].isna(),'temp']=y_pred_tmin\n",
    "print(df_tmin1.isna().sum().sum())"
   ]
  },
  {
   "cell_type": "code",
   "execution_count": 7,
   "metadata": {},
   "outputs": [],
   "source": [
    "ds1=df1.set_index(['time','latitude','longitude']).to_xarray()\n",
    "ds_tmax1=df_tmax1.set_index(['time','latitude','longitude']).to_xarray()\n",
    "ds_tmin1=df_tmin1.set_index(['time','latitude','longitude']).to_xarray()\n"
   ]
  },
  {
   "cell_type": "code",
   "execution_count": 9,
   "metadata": {},
   "outputs": [],
   "source": [
    "import rioxarray\n",
    "crop_mask=rioxarray.open_rasterio('ZA_cropmask.tif')\n",
    "crop_mask=crop_mask.squeeze()\n",
    "print(crop_mask)\n",
    "precip_masked=ds1.where(crop_mask !=0)\n",
    "ds_tmax1_masked=ds_tmax1.where(crop_mask !=0)\n",
    "ds_tmin1_masked=ds_tmin1.where(crop_mask !=0)"
   ]
  }
 ],
 "metadata": {
  "kernelspec": {
   "display_name": "qenv",
   "language": "python",
   "name": "qenv"
  },
  "language_info": {
   "codemirror_mode": {
    "name": "ipython",
    "version": 3
   },
   "file_extension": ".py",
   "mimetype": "text/x-python",
   "name": "python",
   "nbconvert_exporter": "python",
   "pygments_lexer": "ipython3",
   "version": "3.10.2"
  }
 },
 "nbformat": 4,
 "nbformat_minor": 2
}
