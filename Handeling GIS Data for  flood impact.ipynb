{
 "cells": [
  {
   "cell_type": "code",
   "execution_count": 16,
   "metadata": {},
   "outputs": [],
   "source": [
    "import geopandas as gpd\n",
    "import numpy as np\n",
    "import matplotlib.pyplot as plt\n",
    "import pandas as pd\n",
    "import rioxarray"
   ]
  },
  {
   "cell_type": "code",
   "execution_count": 3,
   "metadata": {},
   "outputs": [
    {
     "name": "stdout",
     "output_type": "stream",
     "text": [
      "<xarray.DataArray (y: 22485, x: 17303)> Size: 2GB\n",
      "[389057955 values with dtype=uint32]\n",
      "Coordinates:\n",
      "    band         int32 4B 1\n",
      "  * x            (x) float64 138kB 88.01 88.01 88.01 88.01 ... 92.67 92.67 92.67\n",
      "  * y            (y) float64 180kB 26.63 26.63 26.63 26.63 ... 20.58 20.58 20.57\n",
      "    spatial_ref  int32 4B 0\n",
      "Attributes:\n",
      "    AREA_OR_POINT:  Area\n",
      "    _FillValue:     0\n",
      "    scale_factor:   1.0\n",
      "    add_offset:     0.0\n",
      "{'AREA_OR_POINT': 'Area', '_FillValue': 0, 'scale_factor': 1.0, 'add_offset': 0.0}\n"
     ]
    }
   ],
   "source": [
    "flood_data=rioxarray.open_rasterio('bgd_flood_forecast_2017_aug.tif')[0]\n",
    "population_data=rioxarray.open_rasterio('bgd_flood_forecast_2017_aug.tif')[0]\n",
    "print(flood_data)\n",
    "print(flood_data.attrs)"
   ]
  },
  {
   "cell_type": "code",
   "execution_count": 5,
   "metadata": {},
   "outputs": [],
   "source": [
    "affected_population=(population_data*(flood_data/1.5))\n",
    "affected_population=affected_population.where(flood_data>1.5,population_data)\n",
    "print(affected_population)"
   ]
  },
  {
   "cell_type": "code",
   "execution_count": 14,
   "metadata": {},
   "outputs": [
    {
     "name": "stdout",
     "output_type": "stream",
     "text": [
      "    Shape_Leng  Shape_Area     ADM2_EN ADM2_PCODE ADM2_REF ADM2ALT1EN  \\\n",
      "0    12.929816    0.319709    Bagerhat       4001     None       None   \n",
      "1     5.358126    0.401359   Bandarban       2003     None       None   \n",
      "2     4.167970    0.117801     Barguna       1004     None       None   \n",
      "3     7.713625    0.195228     Barisal       1006     None       None   \n",
      "4    10.091155    0.170812       Bhola       1009     None       None   \n",
      "..         ...         ...         ...        ...      ...        ...   \n",
      "59    3.596003    0.221992   Sirajganj       5088     None       None   \n",
      "60    4.741768    0.330139   Sunamganj       6090     None       None   \n",
      "61    4.338167    0.305453      Sylhet       6091     None       None   \n",
      "62    3.644558    0.299525     Tangail       3093     None       None   \n",
      "63    3.245973    0.163550  Thakurgaon       5594     None       None   \n",
      "\n",
      "   ADM2ALT2EN     ADM1_EN ADM1_PCODE     ADM0_EN ADM0_PCODE       date  \\\n",
      "0        None      Khulna         40  Bangladesh         BD 2015-01-01   \n",
      "1        None  Chittagong         20  Bangladesh         BD 2015-01-01   \n",
      "2        None     Barisal         10  Bangladesh         BD 2015-01-01   \n",
      "3        None     Barisal         10  Bangladesh         BD 2015-01-01   \n",
      "4        None     Barisal         10  Bangladesh         BD 2015-01-01   \n",
      "..        ...         ...        ...         ...        ...        ...   \n",
      "59       None    Rajshahi         50  Bangladesh         BD 2015-01-01   \n",
      "60       None      Sylhet         60  Bangladesh         BD 2015-01-01   \n",
      "61       None      Sylhet         60  Bangladesh         BD 2015-01-01   \n",
      "62       None       Dhaka         30  Bangladesh         BD 2015-01-01   \n",
      "63       None     Rangpur         55  Bangladesh         BD 2015-01-01   \n",
      "\n",
      "      validOn     ValidTo                                           geometry  \n",
      "0  2018-04-10  0000/00/00  MULTIPOLYGON (((89.84021 21.82784, 89.84052 21...  \n",
      "1  2018-04-10  0000/00/00  POLYGON ((92.38065 22.33064, 92.38159 22.33002...  \n",
      "2  2018-04-10  0000/00/00  MULTIPOLYGON (((89.87968 22.07869, 89.87865 22...  \n",
      "3  2018-04-10  0000/00/00  MULTIPOLYGON (((90.55429 22.59271, 90.55435 22...  \n",
      "4  2018-04-10  0000/00/00  MULTIPOLYGON (((90.77172 21.85595, 90.7692 21....  \n",
      "..        ...         ...                                                ...  \n",
      "59 2018-04-10  0000/00/00  POLYGON ((89.68254 24.78337, 89.68266 24.78334...  \n",
      "60 2018-04-10  0000/00/00  POLYGON ((91.27008 25.20512, 91.27091 25.20405...  \n",
      "61 2018-04-10  0000/00/00                                               None  \n",
      "62 2018-04-10  0000/00/00                                               None  \n",
      "63 2018-04-10  0000/00/00                                               None  \n",
      "\n",
      "[64 rows x 15 columns]\n"
     ]
    }
   ],
   "source": [
    "\n",
    "districts = gpd.read_file('bgd_adm2.shp')\n",
    "print(districts)\n",
    "affected_population_cliped=affected_population.rio.clip(districts.geometry,districts.crs)"
   ]
  },
  {
   "cell_type": "code",
   "execution_count": null,
   "metadata": {},
   "outputs": [],
   "source": [
    "districts['affected_population']=districts.geometry.apply(lambda x: affected_population_cliped.rio.clip([x],districts.crs).sum().item())\n",
    "\n",
    "districts_sorted=districts.sort_values('affected_population',ascending=False)\n",
    "\n",
    "plt.figure(figsize=(10, 6))\n",
    "plt.bar(districts_sorted['ADM2_EN'],districts_sorted['affected_population'])\n",
    "plt.ylabel('affected_population')\n",
    "plt.xlabellabel('Districts')\n",
    "plt.title('Affected Population by District')\n",
    "plt.show()\n"
   ]
  },
  {
   "cell_type": "code",
   "execution_count": null,
   "metadata": {},
   "outputs": [],
   "source": [
    "education_facilities = gpd.read_file('bgd_education_facilities.shp')\n",
    "\n",
    "affected_facilities = education_facilities[education_facilities.geometry.apply( lambda x: affected_population_clipped.rio.clip([x], education_facilities.crs).max().item() > 1)]\n",
    "\n",
    "count_affected_facilities = len(affected_facilities)\n",
    "print('Number of affected educational facilities',count_affected_facilities)"
   ]
  }
 ],
 "metadata": {
  "kernelspec": {
   "display_name": "qenv",
   "language": "python",
   "name": "qenv"
  },
  "language_info": {
   "codemirror_mode": {
    "name": "ipython",
    "version": 3
   },
   "file_extension": ".py",
   "mimetype": "text/x-python",
   "name": "python",
   "nbconvert_exporter": "python",
   "pygments_lexer": "ipython3",
   "version": "3.10.2"
  }
 },
 "nbformat": 4,
 "nbformat_minor": 2
}
